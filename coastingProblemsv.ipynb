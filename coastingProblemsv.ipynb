{
 "cells": [
  {
   "cell_type": "code",
   "execution_count": 1,
   "metadata": {},
   "outputs": [],
   "source": [
    "import sys\n",
    "import numpy as np \n",
    "import scipy as sp\n",
    "import sympy \n",
    "import dataclasses\n",
    "import control as ct\n",
    "from typing import Optional\n",
    "import pandas as pd\n",
    "\n",
    "# other files I created \n",
    "import header\n",
    "import linearize\n",
    "import initialize\n",
    "import kalmanFilter as kf\n",
    "import simMeasurements as sm"
   ]
  },
  {
   "attachments": {},
   "cell_type": "markdown",
   "metadata": {},
   "source": [
    "### The Dynamics and Measurement Model\n",
    "\n",
    "The phase will be estimated by the following process: \n",
    "\n",
    "> $\\phi_{k} = \\phi_{0} + 2\\pi(f_{d,k}kTs + \\frac{1}{2} \\dot{f}_{d,k} k^2 Ts^2)$\n",
    "\n",
    "Wherever we estimate a parameter, we incur a noise term on that estimate. The IMU will be reporting the observer velocity, $v_0$, but will impart a biased noise term, $\\eta_{IMU}$, onto it. Accounting for this in the traditional doppler frequency equation yields:  \n",
    "\n",
    "> ### $\\hat{f}_d = \\frac{v+v_0+\\eta_{IMU}}{v+v_s} + \\eta_{clock}$\n",
    "Where $\\hat{f}_d$ is the doppler estimate, $v$ is the speed of sound, $v_s$ is the signal source velocity, and $\\eta_{clock}$ is the clock process noise.\n",
    "\n",
    "This requires an estimate of the user velocity from the IMU. The equation used here will be: \n",
    "\n",
    "> $\\dot{v}^n = f^n -(\\Omega^{n}_{e/n} + 2 \\Omega^{n}_{i/e})v^n + g^n$\n",
    "\n",
    "We will make the assumption of 1D velocity, constant angular position states: \n",
    "\n",
    "> $\\dot{v}^n = f^n -(2 \\Omega^{n}_{i/e})v^n + g^n$\n",
    ">> biased accelerometer output: $f^n = f + b + \\omega_{IMU}$\n",
    "\n",
    "Here, $\\eta_{clock}$ will be a white, thermal noise source. However, the IMU noise will be biased and will require some dynamic model.  \n",
    "\n",
    "How to I model $\\eta_{IMU}$? \n",
    "\n",
    "#### FW difference FOGMP model: \n",
    "\n",
    ">$b_{k} = b_{k-1} + k*Ts*\\dot{b}_{k-1} = b_{k-1} + \\frac{k*Ts}{\\tau}(b_{k-1} + \\omega) = (1+\\frac{k*Ts}{\\tau})b_{k-1} + \\frac{k*Ts}{\\tau}*\\omega$\n",
    ">> ... $b_{k} = (1+\\frac{k*Ts}{\\tau})b_{k-1} + \\frac{k*Ts}{\\tau}*\\omega_{k-1}$"
   ]
  },
  {
   "attachments": {},
   "cell_type": "markdown",
   "metadata": {},
   "source": [
    "#### Dynamic model in continuous time \n",
    "> $ \\begin{pmatrix} \\dot{\\theta} \\\\ \\dot{f}_d \\\\ \\dot{v} \\\\ \\dot{b} \\end{pmatrix} = \\begin{pmatrix}  f_d \\\\ \\frac{d}{dt} (\\frac{\\nu + v}{\\nu + v_s}) \\\\ f + b - 2\\Omega^{2}_{i/e}v + g\\\\ \\frac{1}{\\tau}b \\end{pmatrix} + \\begin{pmatrix} \\omega_{LO} \\\\ 0 \\\\ \\omega_v \\\\ \\omega_{IMU}\\end{pmatrix}$\n",
    "\n",
    "Where the phase is given by the accuulation of the frequency $f(t)$ and the original phase: \n",
    "\n",
    ">$ \\theta = \\theta_0 + \\int^{t}_{t_0} f(t) dt$\n",
    "\n",
    "$f(t)$ should be the result of the doppler shift of the incoming signal."
   ]
  },
  {
   "attachments": {},
   "cell_type": "markdown",
   "metadata": {},
   "source": [
    "Note here that the $\\dot{f}_d$ state is redundant. We can directly substitute it in for the $\\dot{\\theta}$ equation: \n",
    "\n",
    "> $ \\begin{pmatrix} \\dot{\\theta} \\\\ \\dot{v} \\\\ \\dot{b} \\end{pmatrix} = \\begin{pmatrix}  \\frac{\\nu + v}{\\nu + v_s} \\\\ f + b - 2\\Omega^{2}_{i/e}v + g\\\\ \\frac{1}{\\tau}b\\end{pmatrix} + \\begin{pmatrix} \\omega_{LO}\\\\ \\omega_v \\\\ \\omega_{IMU}\\end{pmatrix}$\n",
    "\n",
    "or, separating states, control inputs, and noise termns (and adding the local clock phase noise)"
   ]
  },
  {
   "attachments": {},
   "cell_type": "markdown",
   "metadata": {},
   "source": [
    "> $ \\begin{pmatrix} \\dot{\\theta} \\\\ \\dot{v} \\\\ \\dot{b} \\end{pmatrix} = \\begin{bmatrix} 0 & \\frac{1}{v_d + v_s} & 0 \\\\ 0 & -2\\Omega^{2}_{i/e} & 1 \\\\ 0 & 0 & \\frac{1}{\\tau} \\end{bmatrix} \\begin{pmatrix} \\theta \\\\ v \\\\ b \\end{pmatrix} + \\begin{bmatrix} 0 & 0 & 1 \\\\ 1 & 1 & 0 \\\\ 0& 0 & 0 \\end{bmatrix} \\begin{pmatrix} f \\\\ g \\\\ \\frac{v_d}{v_d+v_s} \\end{pmatrix} + \\begin{bmatrix} 1 & 0 & 0 \\\\ 0 & 1 & 0 \\\\ 0 & 0 & 1 \\end{bmatrix} \\begin{pmatrix} \\omega_{LO} \\\\ \\omega_{v} \\\\ \\omega_{IMU} \\end{pmatrix}$\n",
    "\n",
    "Note that the speed of sound is now represented as $v_d$ since $\\nu$ is typically reserved for measurement noise (up next)."
   ]
  },
  {
   "attachments": {},
   "cell_type": "markdown",
   "metadata": {},
   "source": [
    "The system will use the following measurement model: \n",
    "\n",
    "> $z = \\begin{pmatrix} z_I \\\\ z_Q \\end{pmatrix} = \\begin{pmatrix} a*cos(\\theta) \\\\ a*sin(\\theta) \\end{pmatrix} + \\nu_k$\n",
    "\n",
    "Where $a$ is the signal amplitude, $z_I$ and $z_Q$ represent the in phase and quadrature sample of the incoming signal, repectively. \n",
    "\n",
    "After linearization, the measurement model will be: \n",
    "\n",
    "> $z-z(a^*,\\theta^*) = \\begin{bmatrix} -a*sin(\\theta^*) & 0 & 0 \\\\ a*cos(\\theta^*) & 0 & 0\\end{bmatrix} (x-x^*) + \\nu $\n",
    ">> == $z_{k}^{*}+H_{k}^{*}x^*= H_{k}^{*}x +\\nu_k$\n",
    "\n",
    "where all $(.)^*$ values come from some nominal trajectory."
   ]
  },
  {
   "attachments": {},
   "cell_type": "markdown",
   "metadata": {},
   "source": [
    "### Code implementation"
   ]
  },
  {
   "cell_type": "code",
   "execution_count": 2,
   "metadata": {},
   "outputs": [],
   "source": [
    "# stocastic information \n",
    "sigma_nu = 5                                    # measurement noise standard deviation (SD)\n",
    "sigma_v  = 3                                    # velocity measurement SD\n",
    "sigma_theta = np.pi                             # phase measurement SD\n",
    "sigma_b = 2                                     # accelerometer bias SD \n",
    "sigma_omega_IMU = 2                             # accelerometer noise SD\n",
    "sigma_omega_clock = 2                           # local ascillator phase noise SD \n",
    "sigma_omega_v = 2                               # non-IMU related process noise on velocity state\n",
    "P0 = np.diag([sigma_theta**2, sigma_v**2, sigma_b**2])                      # initial state covariance \n",
    "W  = np.diag([sigma_omega_IMU**2, sigma_omega_clock**2, sigma_omega_v**2])  # process noise covariance \n",
    "V  = np.diag([sigma_nu**2,sigma_nu**2])         # measurement noise covariance \n",
    "\n",
    "# system variables \n",
    "a, theta, v, b = sympy.symbols('a theta v b')   # all unknowns in system which may be 'lambdafied'\n",
    "vars = list([theta, v, b])                      # variable representation of states\n",
    "v_d = 343                                       # speed of sound in dry air in m/s\n",
    "v_0 = 5                                         # initial magnitude of velocity \n",
    "f_d0 = 10                                       # initial doppler frequency in Hz\n",
    "v_s = (v_d+v_0)/f_d0 - v_d                      # solving for initial satellite velocity in m/s. This will be estimated later.\n",
    "omega_e = 1.99*(10**-7)                         # angular velocity of earth in rad/s \n",
    "tau = 1                                         # time constant of accelerometer bias \n",
    "phi_0 = np.pi/2                                 # initial phase offset of incoming signal\n",
    "\n",
    "# simulation settings \n",
    "Ts = 10                                         # sample time in Hz\n",
    "Tc = .02                                        # coherent integration time in seconds \n",
    "st = 60                                         # requested simulation runtime in seconds "
   ]
  },
  {
   "cell_type": "code",
   "execution_count": 3,
   "metadata": {},
   "outputs": [],
   "source": [
    "# measurements \n",
    "# linearize the observation matrix \n",
    "H = sympy.Matrix([[a*sympy.sin(theta)],[a*sympy.cos(theta)]])           # observation matrix \n",
    "dH, varsa = linearize.linearize(H, vars, (H.shape[0],len(vars)))\n",
    "D = sympy.diag(1,1)\n",
    "\n",
    "# dynamics -> note that this system will not be linear after estimating v_s \n",
    "A = sympy.Matrix([[0, 1/(v_d+v_s),0],[0,-2*omega_e**2,1],[0,0,1/tau]]) # state transition matrix\n",
    "nx = A.shape[0]                                    # number of states must match columns of A \n",
    "B = sympy.Matrix([[0,0,1],[1,1,0],[0,0,0]])                            # control input matrix (sparse)\n",
    "nu = B.shape[1]\n",
    "G = sympy.Matrix([[1,0,0],[0,1,1],[0,0,1]])             # process noise input matrix\n",
    "ng = G.shape[1]         # number of noise variables must match the colummns of G \n",
    "\n",
    "# store all system information in a dataclass \n",
    "sys = header.SymSystem(A, B, G, dH, D) # NOTE that dH is linearized, and the states there are defined by \n",
    "                                       # their deviation from some nominal value "
   ]
  },
  {
   "attachments": {},
   "cell_type": "markdown",
   "metadata": {},
   "source": [
    "#### The Kalman Filter \n",
    "\n",
    "The Kalman filter will require: \n",
    "- The system dynamics (we will use a header.SymSystem type)\n",
    "- The measurement model (same type as above)\n",
    "- The system statistics, which includes: \n",
    "    - The variances of all states and noise sources \n",
    "    - The initial covariance and MAP estimates of the states \n",
    "- A trajectory to linearize off of in the case of out non-linear dynamics "
   ]
  },
  {
   "cell_type": "code",
   "execution_count": 4,
   "metadata": {},
   "outputs": [],
   "source": [
    "# the Kalman filter args look like this: \n",
    "# def KalmanFilter(sys: h.SymSystem, init_args: dict, traj: np.ndarray, stats: dict):\n",
    "# we will package our information to suit this\n",
    "\n",
    "###### The init_args ######\n",
    "# sys is defined above \n",
    "initials = np.array([np.pi/2+.001, 10, .001, 1, np.pi/2])\n",
    "initials = np.transpose(initials)\n",
    "var_list = list([theta, v, b, a, phi_0])\n",
    "feilds = list([\"A\", \"B\", \"G\", \"C\", \"D\"]) # form elements of control system\n",
    "init_args_keys = list([\"sys\",\"initials\",\"var_list\",\"fields\"])\n",
    "init_arg_fields = list([sys, initials, var_list, feilds])\n",
    "init_args = dict.fromkeys(init_args_keys)\n",
    "i = 0\n",
    "for key in init_args_keys:\n",
    "    init_args[key] = init_arg_fields[i]\n",
    "    i = i + 1\n",
    "\n",
    "###### The statistics of the system, 'stats' ######\n",
    "# initial states \n",
    "theta0 = phi_0 + .001       # unitless    \n",
    "v = 10                      # m/s\n",
    "bias0 = .0001                # m/s \n",
    "x0    = np.transpose(np.array([theta0, v, bias0]))\n",
    "stats_keys = list([\"P0\", \"x0\", \"W\", \"V\"])\n",
    "fields = list([P0, x0, W, V])\n",
    "stats = dict.fromkeys(stats_keys)\n",
    "i = 0\n",
    "for keys in stats_keys:\n",
    "    stats[keys] = fields[i]\n",
    "    i = i + 1"
   ]
  },
  {
   "cell_type": "code",
   "execution_count": 5,
   "metadata": {},
   "outputs": [],
   "source": [
    "# discrete form of symbolic system via ZOH  \n",
    "# TODO replace with Van Loans\n",
    "B = sys.B\n",
    "A = sys.A\n",
    "dt = Ts**-1\n",
    "nx, nm = sys.B.shape\n",
    "Phik = sympy.exp(A*dt)\n",
    "GamUk = dt*B + ((dt**2)/2)*A*B + ((dt**3)/6)*A*A*B # using approximation since A is not invertible\n",
    "#GWG = sympy.exp(sys.A*1/Ts)*sys.G*W*np.transpose(sys.G)*sympy.exp(sys.A*1/Ts)*1/Ts # only used for exactness \n",
    "GamWk = sys.G*1/Ts # usable for sufficiently small sample times \n",
    "# GamWk_test = sympy.exp(sys.A*1/Ts)*sys.G * 1/Ts # slightly more accurate version? \n",
    "args = [Phik,GamUk,GamWk,sys.C,sys.D]\n",
    "sysd = header.SymSystem(*args)\n",
    "init_args[\"sys\"] = sysd\n",
    "\n",
    "# TODO this is supposedly an accurate way to compute Phik and GamUk, but GamUk was coming out VERY wrong\n",
    "# M = sympy.Matrix(np.zeros((nx+nm,nx+nm)))\n",
    "# M[0:nx,0:nx] = sys.A\n",
    "# M[0:nx,nx:nx+sys.B.shape[1]] = sys.B\n",
    "# dmats = sympy.exp(M*(1/Ts)) \n",
    "# Phik = dmats[0:nx,0:nx]\n",
    "# GamUk = dmats[0:nx,nx:] # TODO not correct \n"
   ]
  },
  {
   "cell_type": "code",
   "execution_count": 6,
   "metadata": {},
   "outputs": [],
   "source": [
    "# we're almost ready to pass this to the kalman filter, but we'll need a trajectory to linearize the system with. \n",
    "# this is a case-by-case tool, so it will require a redo for each situation we wish to face.\n",
    "traj: float = np.matrix(np.zeros((nx,int(st*Ts))))\n",
    "u: float    = np.matrix(np.zeros((nu,int(st*Ts))))\n",
    "v_k = 0\n",
    "phi_nom = np.pi/2 # nominal phase value\n",
    "v_ts = np.matrix([[phi_nom],[v_k],[0]]) \n",
    "v_nom= sys.A[1,:]*v_ts\n",
    "b_nom = 0.0 # nominal bias value will be zero \n",
    "init_args_hold = init_args\n",
    "for i in range(0,int(st*Ts),1):\n",
    "    u[:,i] = np.matrix([[1+np.random.randn()],[9.81],[v_d/(v_d+v_s)]])\n",
    "for i in range(1,int(st*Ts),1):\n",
    "    sysd_hold = initialize.initialize(init_args_hold)\n",
    "    traj[:,i] = np.matrix([[phi_nom],[v_nom[0,0]],[0]], dtype=float)\n",
    "    u_nom = u[1,i]\n",
    "    v_nom = sysd_hold.A[1,:]*np.matrix([[phi_nom],[v_nom[0,0]],[b_nom]], dtype=float)+u_nom\n",
    "    if i != int(st*Ts):\n",
    "        fill: float = np.matrix([[1],[np.pi/2]])\n",
    "        initals_hold: float = np.array(np.concatenate((traj[:,i],fill), axis=0))\n",
    "        init_args_hold[\"initials\"] = initals_hold"
   ]
  },
  {
   "cell_type": "code",
   "execution_count": 7,
   "metadata": {},
   "outputs": [],
   "source": [
    "# run kalman filter \n",
    "x, P, Pbar, K_list, H_list, Phi_list = kf.KalmanFilter(sysd, init_args, traj, stats, Ts, st, u,\"R\")"
   ]
  },
  {
   "cell_type": "code",
   "execution_count": 8,
   "metadata": {},
   "outputs": [],
   "source": [
    "n = nx\n",
    "m = dH.shape[0]\n",
    "exc = np.matrix([[1],[1],[1]])\n",
    "for i in range(1,int(st*Ts)-1,1):\n",
    "    Pp = Pbar[:,i*n:(i+1)*n]\n",
    "    H = H_list[:,i*n:(i+1)*n]\n",
    "    K = K_list[:,i*m:(i+1)*m]\n",
    "    A = Phi_list[:,i*n:(i+1)*n]\n",
    "    exc = (np.eye(nx,nx)-K*H)*A"
   ]
  },
  {
   "cell_type": "code",
   "execution_count": 9,
   "metadata": {},
   "outputs": [],
   "source": [
    "zk = np.array(pd.read_csv('zk.csv'))\n",
    "x = np.array(x)\n",
    "P_tmp = np.array(P)\n",
    "u_tmp = np.array(u)"
   ]
  },
  {
   "cell_type": "code",
   "execution_count": 10,
   "metadata": {},
   "outputs": [
    {
     "data": {
      "image/png": "[encoded data removed]",
      "text/plain": [
       "<Figure size 640x480 with 3 Axes>"
      ]
     },
     "metadata": {},
     "output_type": "display_data"
    }
   ],
   "source": [
    "import matplotlib.pyplot as plt\n",
    "\n",
    "fig, ax = plt.subplots(3)\n",
    "P_theta = P[0,:]\n",
    "P_theta = P_theta[0,::3]\n",
    "sig_theta = np.sqrt(P_theta)\n",
    "xplt = x[0,0:20]\n",
    "k = range(0,xplt.size,1)\n",
    "\n",
    "ax[0].plot(k,np.cos(xplt))\n",
    "ax[1].plot(k,np.transpose(P_theta[0,0:20]))\n",
    "ax[2].plot(k,zk[0,0:20])\n",
    "\n",
    "plt.show()"
   ]
  }
 ],
 "metadata": {
  "kernelspec": {
   "display_name": "Python 3",
   "language": "python",
   "name": "python3"
  },
  "language_info": {
   "codemirror_mode": {
    "name": "ipython",
    "version": 3
   },
   "file_extension": ".py",
   "mimetype": "text/x-python",
   "name": "python",
   "nbconvert_exporter": "python",
   "pygments_lexer": "ipython3",
   "version": "3.10.9"
  },
  "orig_nbformat": 4,
  "vscode": {
   "interpreter": {
    "hash": "a9a064560be0c0363b871e838f2a024878e70347159407046b86173851f81678"
   }
  }
 },
 "nbformat": 4,
 "nbformat_minor": 2
}
