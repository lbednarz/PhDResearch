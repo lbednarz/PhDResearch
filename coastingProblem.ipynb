{
 "cells": [
  {
   "cell_type": "code",
   "execution_count": 1,
   "metadata": {},
   "outputs": [],
   "source": [
    "import sys\n",
    "sys.path.append('C:/Users/logan/Desktop/PhDResearch')\n",
    "\n",
    "import numpy as np \n",
    "import sympy \n",
    "\n",
    "# other files I created \n",
    "import header\n",
    "import linearize"
   ]
  },
  {
   "attachments": {},
   "cell_type": "markdown",
   "metadata": {},
   "source": [
    "#### System Statistics"
   ]
  },
  {
   "cell_type": "code",
   "execution_count": null,
   "metadata": {},
   "outputs": [],
   "source": [
    "#variances\n",
    "varV = .1   # msmt. noise variance \n",
    "vphi = 1  # phase process noise in rads/s\n",
    "vfd  = 2  # doppler frequency process noise in Hz\n",
    "vfdd = 1  # doppler rate process noise in Hz \n",
    "vbias = 1 # variance of non-time-correlated portion of IMU biasing on estimates  \n",
    "\n",
    "a, phi, b, phi_0, fd, fddot= sympy.symbols('a phi b phi_0 fd fddot')\n",
    "vars = list([phi, fd, fddot, b]) # state variables \n",
    "Ts = .1  # sample time \n",
    "Tc = .02 # coherent integration time \n",
    "k = np.linspace(0, 10, num = int(10/Ts))"
   ]
  },
  {
   "attachments": {},
   "cell_type": "markdown",
   "metadata": {},
   "source": [
    "#### Note the doppler changes from the IMU bias\n",
    "Doppler frequency equation is: \n",
    "\n",
    "> $f_d = \\frac{v +/- v_o}{v +/- v_s}$ \n",
    "\n",
    "Where $f_d$ is the doppler frequency, $v$ is the speed of sound, $v_o$ is the speed of the observer and $v_s$ is the speed of the source\n",
    "\n",
    "*the IMU bias on the velocity will adjust this measurement*\n",
    "\n",
    "> $f_d = \\frac{v +/- (v_o+b)}{v +/- v_s}$\n",
    "\n",
    "As a simple additive process to measurements of the observer speed. \n",
    "The bias process is modeled as follows: \n",
    "\n",
    ">$\\dot{b} = \\frac{1}{T_c}b + \\omega$"
   ]
  },
  {
   "attachments": {},
   "cell_type": "markdown",
   "metadata": {},
   "source": [
    "#### The Dynamics and Measurement Model\n",
    "\n",
    "The phase will be estimated by the following process: \n",
    "\n",
    "> $\\phi_{k} = \\phi_{0} + 2\\pi(f_{d,k}kTs + \\frac{1}{2} \\dot{f}_{d,k} k^2 Ts^2)$\n",
    "\n",
    "using \n",
    "\n",
    "> $f_d = \\frac{v + (v_o+b)}{v + v_s}$\n",
    ">> *where* $f_{d,k} = f_{d,k-1} + Ts*\\dot{f}_{d,k-1}$\n",
    "\n",
    "Noting that: \n",
    "\n",
    "> $\\dot{f}_d = \\frac{-\\dot{v}_s(v + (v_o+b))}{(v + v_s)^2} + \\frac{(\\dot{v}_0 + \\dot{b})}{v + v_s}= \\frac{-\\dot{v}_s(v + (v_o+b)) + (\\dot{v}_0 + \\dot{b})(v + v_s)}{(v + v_s)^2}$\n",
    ">> noting $\\dot{b} = \\frac{1}{T_c}b + \\omega$"
   ]
  },
  {
   "cell_type": "code",
   "execution_count": 4,
   "metadata": {},
   "outputs": [],
   "source": [
    "# measurements \n",
    "# linearize the observation matrix \n",
    "H = sympy.Matrix([[a*sympy.sin(phi)],[a*sympy.cos(phi)]])  # observation matrix \n",
    "dH, varsa = linearize.linearize(H, vars)\n",
    "D = sympy.diag(varV*np.ones((1,np.transpose(H).shape[1])))\n",
    "\n",
    "# dynamics \n",
    "A = sympy.Matrix([[1, Ts, (Ts**2)/2],[0, 1, Ts],[0, 0, 1]]) # state transition matrix\n",
    "nx = np.transpose(A).shape[1]         # number of states must match columns of A \n",
    "B = sympy.Matrix(np.zeros((A.shape))) # control input matrix (sparse)\n",
    "G = sympy.eye(nx)                     # process noise input matrix\n",
    "ng = np.transpose(G).shape[1]         # number of noise variables must match the colummns of G \n",
    "\n",
    "# store all system information in a dataclass \n",
    "sys = header.SymSystem(A, B, G, dH, D) # NOTE that dH is linearized, and the states there are defined by their deviation from some nominal value "
   ]
  }
 ],
 "metadata": {
  "kernelspec": {
   "display_name": "venv",
   "language": "python",
   "name": "python3"
  },
  "language_info": {
   "codemirror_mode": {
    "name": "ipython",
    "version": 3
   },
   "file_extension": ".py",
   "mimetype": "text/x-python",
   "name": "python",
   "nbconvert_exporter": "python",
   "pygments_lexer": "ipython3",
   "version": "3.10.8"
  },
  "orig_nbformat": 4,
  "vscode": {
   "interpreter": {
    "hash": "7357e89103817e18e514309897343074622e4ea7a8d54dbc0485ae0e3701f1ce"
   }
  }
 },
 "nbformat": 4,
 "nbformat_minor": 2
}
